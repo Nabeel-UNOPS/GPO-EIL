{
 "cells": [
  {
   "cell_type": "code",
   "execution_count": null,
   "metadata": {},
   "outputs": [],
   "source": [
    "import json"
   ]
  },
  {
   "cell_type": "code",
   "execution_count": 3,
   "metadata": {},
   "outputs": [],
   "source": [
    "responses = {\n",
    "    \"What SDG goals does this project contribute to?\": {\n",
    "        \"sdg_goals\": [\n",
    "            {\"sdg_goal\": \"6\", \"name\": \"Clean Water and Sanitation\", \"relevance\": \"Provides safe water\"},\n",
    "            {\"sdg_goal\": \"3\", \"name\": \"Good Health and Well-being\", \"relevance\": \"Reduces diseases\"}\n",
    "        ]\n",
    "    },\n",
    "    \"What specific SDG indicators are measurable in this project?\": {\n",
    "        \"sdg_indicators\": [\n",
    "            {\"sdg_indicator\": \"6.1.1\", \"indicator_name\": \"Safe water access\", \"unsd_indicator_codes\": \"C060101\", \"relevance\": \"Household access\"},\n",
    "            {\"sdg_indicator\": \"3.3.1\", \"indicator_name\": \"Waterborne diseases\", \"unsd_indicator_codes\": \"C030301\", \"relevance\": \"Health tracking\"}\n",
    "        ]\n",
    "    },\n",
    "    \"Is remote sensing or other IMAT tools applicable for this project, and how?\": {\n",
    "        \"remote_sensing\": [\n",
    "            {\"technology\": \"Remote Sensing\", \"application\": \"Monitor water sources\"},\n",
    "            {\"technology\": \"Water Quality Sensors\", \"application\": \"Measure purity\"}\n",
    "        ]\n",
    "    }\n",
    "}"
   ]
  },
  {
   "cell_type": "code",
   "execution_count": 8,
   "metadata": {},
   "outputs": [
    {
     "name": "stdout",
     "output_type": "stream",
     "text": [
      "[{'sdg_goal': '6', 'name': 'Clean Water and Sanitation', 'relevance': 'Provides safe water'}, {'sdg_goal': '3', 'name': 'Good Health and Well-being', 'relevance': 'Reduces diseases'}]\n",
      "None\n",
      "None\n"
     ]
    }
   ],
   "source": [
    "for question, response in responses.items():\n",
    "    print(response.get(\"sdg_goals\"))"
   ]
  },
  {
   "cell_type": "code",
   "execution_count": 9,
   "metadata": {},
   "outputs": [
    {
     "data": {
      "text/plain": [
       "{'What SDG goals does this project contribute to?': {'sdg_goals': [{'sdg_goal': '6',\n",
       "    'name': 'Clean Water and Sanitation',\n",
       "    'relevance': 'Provides safe water'},\n",
       "   {'sdg_goal': '3',\n",
       "    'name': 'Good Health and Well-being',\n",
       "    'relevance': 'Reduces diseases'}]},\n",
       " 'What specific SDG indicators are measurable in this project?': {'sdg_indicators': [{'sdg_indicator': '6.1.1',\n",
       "    'indicator_name': 'Safe water access',\n",
       "    'unsd_indicator_codes': 'C060101',\n",
       "    'relevance': 'Household access'},\n",
       "   {'sdg_indicator': '3.3.1',\n",
       "    'indicator_name': 'Waterborne diseases',\n",
       "    'unsd_indicator_codes': 'C030301',\n",
       "    'relevance': 'Health tracking'}]},\n",
       " 'Is remote sensing or other IMAT tools applicable for this project, and how?': {'remote_sensing': [{'technology': 'Remote Sensing',\n",
       "    'application': 'Monitor water sources'},\n",
       "   {'technology': 'Water Quality Sensors', 'application': 'Measure purity'}]},\n",
       " 'time': 'testing'}"
      ]
     },
     "execution_count": 9,
     "metadata": {},
     "output_type": "execute_result"
    }
   ],
   "source": [
    "responses['time'] = 'testing'\n",
    "responses"
   ]
  }
 ],
 "metadata": {
  "kernelspec": {
   "display_name": "Carbon Offset Validator (venv)",
   "language": "python",
   "name": "carbon-offset-validator"
  },
  "language_info": {
   "codemirror_mode": {
    "name": "ipython",
    "version": 3
   },
   "file_extension": ".py",
   "mimetype": "text/x-python",
   "name": "python",
   "nbconvert_exporter": "python",
   "pygments_lexer": "ipython3",
   "version": "3.12.9"
  }
 },
 "nbformat": 4,
 "nbformat_minor": 2
}
