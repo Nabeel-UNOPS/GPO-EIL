{
 "cells": [
  {
   "cell_type": "markdown",
   "metadata": {},
   "source": [
    "# Library"
   ]
  },
  {
   "cell_type": "code",
   "execution_count": 1,
   "metadata": {},
   "outputs": [
    {
     "name": "stderr",
     "output_type": "stream",
     "text": [
      "/Users/beckyxu/Documents/GitHub/UNOPS---Remote-Sensing/venv/lib/python3.12/site-packages/tqdm/auto.py:21: TqdmWarning: IProgress not found. Please update jupyter and ipywidgets. See https://ipywidgets.readthedocs.io/en/stable/user_install.html\n",
      "  from .autonotebook import tqdm as notebook_tqdm\n",
      "INFO:httpx:HTTP Request: GET https://us-central1-aiplatform.googleapis.com/v1beta1/publishers/google/models/gemini-2.0-flash \"HTTP/1.1 200 OK\"\n",
      "WARNING:python_backend.document.processor:Cloud Logging not initialized. Using local logging only: name 'cloud_logging' is not defined\n"
     ]
    }
   ],
   "source": [
    "import os\n",
    "from typing import Dict, List, Optional, Any\n",
    "import datetime\n",
    "import time\n",
    "import sys\n",
    "sys.path.append('../')\n",
    "\n",
    "from python_backend.config import logger, POLICY_FOLDER, GCP_PROJECT_ID, GCP_LOCATION, DOCUMENTS_BUCKET\n",
    "from python_backend.storage.bigquery import get_fa_from_bigquery\n",
    "from python_backend.storage.gcs import ensure_bucket_exists\n",
    "from python_backend.ai.models import llm, embed_model\n",
    "from python_backend.document.processor import process_document, docling_reader\n",
    "from python_backend.storage.bigquery import create_bigquery_table, get_bigquery_client, ensure_processed_docs_table_exists, is_document_already_processed\n",
    "\n",
    "import json\n",
    "import re"
   ]
  },
  {
   "cell_type": "markdown",
   "metadata": {},
   "source": [
    "# Functions to run pipeline"
   ]
  },
  {
   "cell_type": "code",
   "execution_count": 2,
   "metadata": {},
   "outputs": [],
   "source": [
    "# load the policy documents \n",
    "def create_policy_docs(\n",
    "    policy_links: List[str] = None, \n",
    "    ) -> Dict:\n",
    "    \"\"\"\n",
    "    Initialize indices for policy documents using the existing ChromaDB collection.\n",
    "    \n",
    "    Args:\n",
    "        policy_links: list of policy document links (not used when loading from existing ChromaDB).\n",
    "\n",
    "    Returns:\n",
    "        List of extracted policy documents for analysis\n",
    "    \"\"\"\n",
    "    # 1. create combinedtext for each document\n",
    "    # file 1 SDG\n",
    "    file_path = policy_links[0]\n",
    "    docs = docling_reader.load_data(file_path)\n",
    "    text_doc1_sdg = ' '.join(doc.text.strip() for doc in docs)\n",
    "    \n",
    "    # file 2 SDG\n",
    "    file_path = policy_links[1]\n",
    "    docs = docling_reader.load_data(file_path)\n",
    "    text_doc2_sdg = ' '.join(doc.text.strip() for doc in docs)\n",
    "    \n",
    "    # file 3 RS\n",
    "    file_path = policy_links[2]\n",
    "    docs = docling_reader.load_data(file_path)\n",
    "    text_doc1_rs = ' '.join(doc.text.strip() for doc in docs)\n",
    "    \n",
    "    # file 4 RS\n",
    "    file_path = policy_links[3]\n",
    "    docs = docling_reader.load_data(file_path)\n",
    "    text_doc2_rs = ' '.join(doc.text.strip() for doc in docs)\n",
    "    \n",
    "    # file 5 RS [\"this should be the list of IMAT Tools\"]\n",
    "    file_path = policy_links[4]\n",
    "    docs = docling_reader.load_data(file_path)\n",
    "    text_doc3_rs = ' '.join(doc.text.strip() for doc in docs)\n",
    "    \n",
    "    return [text_doc1_sdg, text_doc2_sdg, text_doc1_rs, text_doc2_rs, text_doc3_rs] "
   ]
  },
  {
   "cell_type": "code",
   "execution_count": 109,
   "metadata": {},
   "outputs": [],
   "source": [
    "# generate analysis results \n",
    "def answer_question_from_document_link(document_link: str, policy_doc_list) -> Dict[str, Any]:\n",
    "    \"\"\"\n",
    "    Answer a question based on a document link and policy indices.\n",
    "    First extracts information from policy documents, then uses that to analyze the project document.\n",
    "    \n",
    "    Args:\n",
    "        document_link: The link to the project document to analyze.\n",
    "        policy_doc_list: list of extracted document text from\n",
    "                \n",
    "    Returns:\n",
    "        Dict containing the structured analysis and relevant context.\n",
    "    \"\"\"\n",
    "    \n",
    "    # Step 1: load policy context docs\n",
    "\n",
    "    # Step 2: Download and analyze the project document \n",
    "    logger.info(f\"Processing document link: {document_link}\")\n",
    "    try:\n",
    "        processed_doc = process_document(document_link) \n",
    "        project_doc_text = processed_doc['text_doc_fa'] \n",
    "        project_doc_id = processed_doc['file_id'] \n",
    "    except Exception as e:\n",
    "        logger.error(f\"Error initializing project fa doc: {str(e)}\")\n",
    "        return None\n",
    "    \n",
    "    # Step 3: Extract data from the project fa and the policy docs \n",
    "    try:\n",
    "        system_prompt = \"\"\" Use ReAct:\n",
    "        1. **Reason**: Identify relevant project elements from project document.\n",
    "        2. **Act**: Match to tool or indicators.\n",
    "        3. **Reason**: Validate matches.\n",
    "        4. **Act**: Format the response as JSON\n",
    "        If information is missing or uncertain, include null values.\n",
    "        \"\"\"\n",
    "        from ai.models import llm\n",
    "        \n",
    "            \n",
    "        # 1. Create a sdg and sdg indicators json\n",
    "        try:\n",
    "            # Create prompt for the LLM\n",
    "            prompt = f\"\"\"{system_prompt}\n",
    "            You are analyzing a project document financial document for Sustainable Development Goals (SDGs) and measurable SDG indicators.\n",
    "            You are given two sets of documents: 1. project document, 2. sdg indicators documents.\n",
    "            The project document contains two main sections in the report: <finance> and <project description>.\n",
    "            Focusing on <project description> and the sdg indicators documents, analyze:\n",
    "            - What SDG goals does this project contribute to?\n",
    "            - What specific SDG indicators are measurable in this project?\"\n",
    "            - Output a nested json with keys: \"sdg_goals\" and \"sdg_indicators\". Each key can have a list of objects. Follow the format below.\n",
    "\n",
    "            *Here is the project document*:\n",
    "            {project_doc_text}\n",
    "\n",
    "            *Here are the sdg indicators documents*:\n",
    "            {policy_doc_list[0]}\n",
    "            {policy_doc_list[1]}\n",
    "\n",
    "            *Strictly follow this json response format*\n",
    "            {{\n",
    "                \"sdg_goals\": [\n",
    "                    {{\n",
    "                        \"sdg_goal\": \"string\",  # e.g., \"6\"\n",
    "                        \"name\": \"string\",     # e.g., \"Clean Water and Sanitation\"\n",
    "                        \"relevance\": \"string\" # e.g., \"Provides safe water\"\n",
    "                    }}\n",
    "                ],\n",
    "                \"sdg_indicators\": [\n",
    "                    {{\n",
    "                        \"sdg_indicator\": \"string\",\n",
    "                        \"description\" : \"string\",\n",
    "                        \"measurability\" : \"string\"\n",
    "                    }}\n",
    "                ]\n",
    "            }}\n",
    "\n",
    "            Only output the json string.\n",
    "            \"\"\"\n",
    "            # Get response from LLM\n",
    "            response = llm.complete(prompt)\n",
    "            answer_sdg = response.text.strip()\n",
    "            \n",
    "            # Store in summary\n",
    "            # print(answer_sdg)\n",
    "            logger.info(f\"Generated SDG for doc\")  \n",
    "        except Exception as e:\n",
    "            logger.error(f\"Error generating SDG doc: {str(e)}\")\n",
    "            answer_sdg = None\n",
    "            \n",
    "        # 2. Create a imat and remote sensing capacity json\n",
    "        try:\n",
    "            # Create prompt for the LLM\n",
    "            prompt = f\"\"\"{system_prompt}\n",
    "            You are an expert remote sensing analyst tasked with identifying relevant remote sensing tools for a given project.  You will be provided with two sets of information:\n",
    "\n",
    "            1.  **Remote Sensing Tool Documents:** {policy_doc_list[4]}\n",
    "\n",
    "            2.  **Project Description:** {project_doc_text}\n",
    "\n",
    "            **Your Task:**\n",
    "\n",
    "            Based on the provided Remote Sensing Tool Documents and Project Description, identify a list of remote sensing tools that are *relevant* to the project.  Relevance is determined by the project's objectives, data requirements, analysis methods, and anticipated outcomes as described in the Project Description.\n",
    "\n",
    "            Here are some more context information on how remote sensing tools have been useful and relevant to other projects.\n",
    "            {policy_doc_list[2]}\n",
    "            {policy_doc_list[3]}\n",
    "            \n",
    "            For *each* remote sensing tool you identify as relevant, provide the following information in a structured format:\n",
    "\n",
    "            *   **Technology:**  The exact name of the remote sensing tool (tool name) as it appears in the Remote Sensing Tool Documents. Here is a list of all tool names1. Satellite Imagery & Geospatial Analysis; 2. AI-Powered Remote Sensing; 3. UAV & Aerial Data Integration; 4. Remote Monitoring & Early Warning; 5. Interactive Dashboards & Decision Support\n",
    "            *   **Relevance Justification:** A concise explanation of *why* this tool is relevant to the project.  This explanation *must* be directly supported by specific references to the Project Description.\n",
    "            *   **Project Description Context:**  List the *exact* section/paragraph/page number and sentence(s) from the Project Description that support your relevance justification.  Be as specific as possible (e.g., \"Section 2.3, Paragraph 4, Sentence 1-2\").  Quote the relevant sentence(s) directly. If the relevancy stems from multiple location in the project description, list all of them.\n",
    "\n",
    "            **Output Format:**\n",
    "            Present your findings in a nested json format as follows. Strictly follow the format:\n",
    "                {{\n",
    "                    \"remote_sensing_tools\":[\n",
    "                        {{\n",
    "                            \"technology\": \"string\",  \n",
    "                            \"relevance_justification\": \"string\", \n",
    "                            \"project_description_context\": \"string\"     \n",
    "                        }},\n",
    "                        ...(Continue for all relevant tools)\n",
    "                    ]\n",
    "                }}\n",
    "                \n",
    "            **Important Considerations:**\n",
    "\n",
    "            *   **Accuracy is paramount.**  Ensure that your relevance justifications are directly and demonstrably supported by the Project Description. Do not infer or assume relevance; it must be explicitly stated or strongly implied.\n",
    "            *   **Specificity is key.**  Provide the *most specific* section/paragraph/page and sentence references possible. Vague references are not acceptable.\n",
    "            *   **Completeness is important.** Include all relevant tools based on the provided documentation.\n",
    "            *   If a tool is mentioned in the Project Description but not in the Remote Sensing Tools Documents, it is not a valid tool to be included in the output.\n",
    "            *   If *no* remote sensing tools are deemed relevant based on the Project Description, state this explicitly with a brief explanation of why.  Do not invent or fabricate relevance.\n",
    "            *   If a tool is relevant, but you can't find the specific section/paragraph/page/sentence, mark the tool as irrelevant and give the reason.\n",
    "\n",
    "            Now, analyze the provided Remote Sensing Tool Documents and Project Description and generate your list of relevant tools.\n",
    "\n",
    "            \"\"\"\n",
    "            \n",
    "            # Get response from LLM\n",
    "            response = llm.complete(prompt)\n",
    "            answer_rs = response.text.strip()\n",
    "            \n",
    "            # Store in summary\n",
    "            # print(answer_rs)\n",
    "            logger.info(f\"Generated remote sensing summary for doc\")\n",
    "        except Exception as e:\n",
    "            logger.error(f\"Error remote sensing summary doc: {str(e)}\")\n",
    "            answer_rs = None\n",
    "            \n",
    "        answer_sdg_dict = safe_json_parse(answer_sdg) if answer_sdg else {}\n",
    "        answer_rs_dict = safe_json_parse(answer_rs) if answer_rs else {}\n",
    "        \n",
    "        sdg_context = json.dumps(answer_sdg_dict)\n",
    "        rs_context = json.dumps(answer_rs_dict)\n",
    "        \n",
    "        # 3. Create a summary text, with measurable indicators from above\n",
    "        try:\n",
    "            # Create prompt for the LLM\n",
    "            prompt = f\"\"\"{system_prompt}\n",
    "                Your task is to act as an analyst reviewing a project document to assess its financial aspects, project description, potential impact on Sustainable Development Goals (SDGs), and potential application of remote sensing technologies.\n",
    "                You will be provided with:\n",
    "                The project document text, structured with <finance> and <project description> sections: {project_doc_text}\n",
    "                A list of SDGs already identified as relevant to the project: {sdg_context}\n",
    "                A list of remote sensing tools already identified as potentially relevant to the project: {rs_context}\n",
    "                Your analysis will be structured in two parts:\n",
    "                Part A: Information Extraction\n",
    "                Based only on the provided project_doc_text, extract the following information. Focus primarily on the <project description> section, but include relevant details from <finance> where specified.\n",
    "                objectives: What are the main goals and aims of the project? (Focus: <project description>)\n",
    "                problems_addressed: What specific societal, economic, or environmental issues does the project intend to solve or mitigate? (Focus: <project description>)\n",
    "                beneficiaries_and_impacted_groups: Who are the primary recipients of the project's benefits, and which other groups or entities will be significantly affected? (Focus: <project description>)\n",
    "                anticipated_outcomes_short_and_long_term: Describe the expected results and changes the project aims to achieve in the near future and over a longer period. (Focus: <project description> and <finance>)\n",
    "                quantifiable_outcomes: Identify specific, measurable results stated in the document (e.g., \"5 health centers built\", \"training for 200 farmers\", \"reduction of x tons of CO2\"). List all such outcomes found. (Focus: <project description> and <finance> if relevant)\n",
    "                If information for a specific point is not explicitly stated in the document text, indicate this by stating \"Not specified in document\".\n",
    "                Part B: Synthesis and Structured Output\n",
    "                Synthesize the information extracted in Part A, along with the provided relevant SDGs and relevant remote sensing tools, into a concise summary and structured JSON output.\n",
    "                Create a brief paragraph summary of the project. This summary should incorporate the project's main purpose, key anticipated impacts, mention the relevance to the provided SDGs, and note the potential application of the provided remote sensing tools.\n",
    "                **Output Format:**\n",
    "                Structure your final output strictly as a JSON object following the format below.        \n",
    "                {{\n",
    "                    \"project_summary\": \"string of brief project SDG impact summary in paragraph\",\n",
    "                    \"objectives\": \"string\",\n",
    "                    \"problems_addressed\": \"string\",\n",
    "                    \"beneficiaries_and_impacted_groups\": \"string\",\n",
    "                    \"anticipated_outcomes_short_and_long_term\": \"string\"\n",
    "                    \"quantifiable_outcome_list\": [\"outcome_item\": \"string\"],\n",
    "                }}\n",
    "                If information is not explicitly stated in the document text, indicate this by stating \"Not specified in document\".\n",
    "            \"\"\"\n",
    "            \n",
    "            # Get response from LLM\n",
    "            response = llm.complete(prompt)\n",
    "            answer_summary = response.text.strip()\n",
    "            \n",
    "            # Store in summary\n",
    "            # print(answer_summary)\n",
    "            logger.info(f\"Generated summary for doc\")\n",
    "        except Exception as e:\n",
    "            logger.info(f\"Fail to generate summary {str(e)}\")\n",
    "            answer_summary = None\n",
    "            \n",
    "        answer_summary_dict = safe_json_parse(answer_summary) if answer_summary else {}\n",
    "        file_id_dict = {\"file_id\": project_doc_id}\n",
    "        combined_result = {**file_id_dict, **answer_summary_dict, **answer_sdg_dict, **answer_rs_dict}\n",
    "        \n",
    "        result = json.dumps(combined_result)\n",
    "        return result\n",
    "    \n",
    "    except Exception as e:\n",
    "        logger.error(f\"Error processing document: {str(e)}\")\n",
    "        return {\"answer\": f\"Error processing document: {str(e)}\", \"source_links\": [document_link]}\n",
    "    \n",
    "# helper function\n",
    "def safe_json_parse(response_text: str) -> dict:\n",
    "    \"\"\"\n",
    "    Extracts JSON from a code block in an LLM response and parses it.\n",
    "    \n",
    "    Args:\n",
    "        response_text: The text returned by the LLM (possibly with ```json ... ```)\n",
    "\n",
    "    Returns:\n",
    "        Parsed Python dictionary, or empty dict if parsing fails.\n",
    "    \"\"\"\n",
    "    try:\n",
    "        # Match JSON block wrapped in triple backticks\n",
    "        match = re.search(r\"```(?:json)?\\s*({.*?})\\s*```\", response_text, re.DOTALL)\n",
    "        if match:\n",
    "            json_str = match.group(1)\n",
    "            return json.loads(json_str)\n",
    "    except Exception as e:\n",
    "        print(f\"Failed to extract/parse JSON: {e}\")\n",
    "    return {}"
   ]
  },
  {
   "cell_type": "code",
   "execution_count": 4,
   "metadata": {},
   "outputs": [],
   "source": [
    "# file_path = policy_links[0]\n",
    "# docs = docling_reader.load_data(file_path)\n",
    "# text_doc1_sdg = ' '.join(doc.text.strip() for doc in docs)\n",
    "# print(text_doc1_sdg)"
   ]
  },
  {
   "cell_type": "markdown",
   "metadata": {},
   "source": [
    "# TEST: Process 1 Document"
   ]
  },
  {
   "cell_type": "code",
   "execution_count": 5,
   "metadata": {},
   "outputs": [
    {
     "name": "stderr",
     "output_type": "stream",
     "text": [
      "/Users/beckyxu/Documents/GitHub/UNOPS---Remote-Sensing/venv/lib/python3.12/site-packages/openpyxl/worksheet/_reader.py:329: UserWarning: Unknown extension is not supported and will be removed\n",
      "  warn(msg)\n",
      "INFO:docling.document_converter:Going to convert document batch...\n",
      "INFO:docling.document_converter:Initializing pipeline for SimplePipeline with options hash 4cc01982ae99b46a2a63fcda46c47c35\n",
      "INFO:docling.pipeline.base_pipeline:Processing document Global-Indicator-Framework-after-2024-refinement-English.xlsx\n",
      "INFO:docling.backend.msexcel_backend:Processing sheet: A.RES.71.313 Annex\n",
      "INFO:docling.document_converter:Finished converting document Global-Indicator-Framework-after-2024-refinement-English.xlsx in 0.36 sec.\n",
      "INFO:docling.document_converter:Going to convert document batch...\n",
      "INFO:docling.pipeline.base_pipeline:Processing document Guidance for aligning UNOPS engagements to SDGs.docx\n",
      "INFO:docling.document_converter:Finished converting document Guidance for aligning UNOPS engagements to SDGs.docx in 0.03 sec.\n",
      "INFO:docling.document_converter:Going to convert document batch...\n",
      "INFO:docling.document_converter:Initializing pipeline for StandardPdfPipeline with options hash 70041f74270850b7bedf7c8f5c2dcede\n",
      "INFO:docling.models.factories.base_factory:Loading plugin 'docling_defaults'\n",
      "INFO:docling.models.factories:Registered ocr engines: ['easyocr', 'ocrmac', 'rapidocr', 'tesserocr', 'tesseract']\n",
      "INFO:docling.utils.accelerator_utils:Accelerator device: 'mps'\n",
      "INFO:docling.utils.accelerator_utils:Accelerator device: 'mps'\n",
      "INFO:docling.utils.accelerator_utils:Accelerator device: 'mps'\n",
      "INFO:docling.models.factories.base_factory:Loading plugin 'docling_defaults'\n",
      "INFO:docling.models.factories:Registered picture descriptions: ['vlm', 'api']\n",
      "INFO:docling.pipeline.base_pipeline:Processing document Rescuing the SDGs with Geospatial Information (1).pdf\n",
      "/Users/beckyxu/Documents/GitHub/UNOPS---Remote-Sensing/venv/lib/python3.12/site-packages/torch/utils/data/dataloader.py:683: UserWarning: 'pin_memory' argument is set as true but not supported on MPS now, then device pinned memory won't be used.\n",
      "  warnings.warn(warn_msg)\n",
      "INFO:docling.document_converter:Finished converting document Rescuing the SDGs with Geospatial Information (1).pdf in 31.73 sec.\n",
      "INFO:docling.document_converter:Going to convert document batch...\n",
      "INFO:docling.pipeline.base_pipeline:Processing document UNOPS Geographic Information Systems (GIS).pptx\n",
      "INFO:docling.document_converter:Finished converting document UNOPS Geographic Information Systems (GIS).pptx in 0.98 sec.\n",
      "INFO:docling.document_converter:Going to convert document batch...\n",
      "INFO:docling.pipeline.base_pipeline:Processing document IMAT’s Remote Sensing Capacities and Tools.docx\n",
      "INFO:docling.document_converter:Finished converting document IMAT’s Remote Sensing Capacities and Tools.docx in 0.01 sec.\n"
     ]
    }
   ],
   "source": [
    "# # NOTE ONLY RUN THIS ONCE\n",
    "\n",
    "# policy_links = [\n",
    "#     'policy_docs/Global-Indicator-Framework-after-2024-refinement-English.xlsx',\n",
    "#     'policy_docs/Guidance for aligning UNOPS engagements to SDGs.docx',\n",
    "#     'policy_docs/Rescuing the SDGs with Geospatial Information (1).pdf',\n",
    "#     'policy_docs/UNOPS Geographic Information Systems (GIS).pptx',\n",
    "#     'policy_docs/IMAT’s Remote Sensing Capacities and Tools.docx',\n",
    "# ]\n",
    "# policy_doc_list = create_policy_docs(policy_links)"
   ]
  },
  {
   "cell_type": "code",
   "execution_count": 88,
   "metadata": {},
   "outputs": [
    {
     "name": "stderr",
     "output_type": "stream",
     "text": [
      "INFO:config:Processing document link: https://drive.google.com/file/d/1BnxsDqskNB2Q4KLcZ7mAK-tZ6BGXaiEY\n",
      "INFO:python_backend.document.processor:Processing document: https://drive.google.com/file/d/1BnxsDqskNB2Q4KLcZ7mAK-tZ6BGXaiEY\n",
      "INFO:googleapiclient.discovery_cache:file_cache is only supported with oauth2client<4.0.0\n",
      "INFO:python_backend.document.processor:Successfully found file: Draft UNOPS Agreement 8.docx\n",
      "INFO:python_backend.document.processor:Download progress: 100%\n",
      "INFO:python_backend.document.processor:Downloaded Draft UNOPS Agreement 8.docx to /var/folders/j2/yjk_0cz112g3l8vv2_013tmr0000gn/T/tmpw_d3vi8h.docx\n",
      "INFO:docling.document_converter:Going to convert document batch...\n",
      "INFO:docling.pipeline.base_pipeline:Processing document tmpw_d3vi8h.docx\n",
      "INFO:docling.document_converter:Finished converting document tmpw_d3vi8h.docx in 0.31 sec.\n",
      "INFO:google_genai.models:AFC is enabled with max remote calls: 10.\n",
      "INFO:httpx:HTTP Request: POST https://us-central1-aiplatform.googleapis.com/v1beta1/projects/unops-eil-sdg-measurement-prod/locations/us-central1/publishers/google/models/gemini-2.0-flash:generateContent \"HTTP/1.1 200 OK\"\n",
      "INFO:google_genai.models:AFC remote call 1 is done.\n",
      "INFO:config:Generated SDG for doc\n",
      "INFO:google_genai.models:AFC is enabled with max remote calls: 10.\n",
      "INFO:httpx:HTTP Request: POST https://us-central1-aiplatform.googleapis.com/v1beta1/projects/unops-eil-sdg-measurement-prod/locations/us-central1/publishers/google/models/gemini-2.0-flash:generateContent \"HTTP/1.1 200 OK\"\n",
      "INFO:google_genai.models:AFC remote call 1 is done.\n",
      "INFO:config:Generated remote sensing summary for doc\n",
      "INFO:google_genai.models:AFC is enabled with max remote calls: 10.\n",
      "INFO:httpx:HTTP Request: POST https://us-central1-aiplatform.googleapis.com/v1beta1/projects/unops-eil-sdg-measurement-prod/locations/us-central1/publishers/google/models/gemini-2.0-flash:generateContent \"HTTP/1.1 200 OK\"\n",
      "INFO:google_genai.models:AFC remote call 1 is done.\n",
      "INFO:config:Generated summary for doc\n"
     ]
    }
   ],
   "source": [
    "document_link = \"https://drive.google.com/file/d/1BnxsDqskNB2Q4KLcZ7mAK-tZ6BGXaiEY\"\n",
    "# add back for future use \n",
    "if not is_document_already_processed(document_link):\n",
    "    result = answer_question_from_document_link(document_link, policy_doc_list)"
   ]
  },
  {
   "cell_type": "markdown",
   "metadata": {},
   "source": [
    "----"
   ]
  },
  {
   "cell_type": "markdown",
   "metadata": {},
   "source": [
    "# Create BQ table to store analysis results if not exists"
   ]
  },
  {
   "cell_type": "code",
   "execution_count": 76,
   "metadata": {},
   "outputs": [
    {
     "name": "stdout",
     "output_type": "stream",
     "text": [
      "Created table unops-eil-sdg-measurement-prod.Legal_Agreements.analysis_results\n"
     ]
    }
   ],
   "source": [
    "# # # should exist already\n",
    "# create_bigquery_table()"
   ]
  },
  {
   "cell_type": "markdown",
   "metadata": {},
   "source": [
    "# Upload to BQ"
   ]
  },
  {
   "cell_type": "code",
   "execution_count": null,
   "metadata": {},
   "outputs": [],
   "source": [
    "from ast import main\n",
    "import os\n",
    "from google.cloud import bigquery\n",
    "from config import logger, GCP_PROJECT_ID, BQ_FA_DATASET, BQ_FA_TABLE \n",
    "from storage.bigquery import schema, upload_to_bigquery, get_bigquery_client, is_document_already_processed"
   ]
  },
  {
   "cell_type": "code",
   "execution_count": 89,
   "metadata": {},
   "outputs": [
    {
     "data": {
      "text/plain": [
       "{'file_id': 'https://drive.google.com/file/d/1BnxsDqskNB2Q4KLcZ7mAK-tZ6BGXaiEY',\n",
       " 'project_summary': 'The project aims to strengthen the capacity of maritime law enforcement agencies in Asia Pacific island countries to effectively control borders and combat transnational organized crime at sea. Key anticipated impacts include enhanced maritime security, improved border management, and contributions to Sustainable Development Goal 16 (Peace, Justice and Strong Institutions) and Goal 14 (Life Below Water). Remote sensing tools such as satellite imagery and geospatial analysis, geospatial data processing, and change detection analysis can be applied to assess equipment deployment areas, analyze maritime data, and monitor border security.',\n",
       " 'objectives': 'The main objectives of the project are to support the Global Maritime Crime Programme by procuring specialized equipment and services for maritime law enforcement agencies in Fiji, Kiribati, Nauru, Tuvalu, Vanuatu, Marshall Islands, and Micronesia, to enhance their capacity to maintain a free and open maritime domain and to strengthen the capacity of Sri Lanka to prevent and counter violent extremism.',\n",
       " 'problems_addressed': 'The project addresses the need to strengthen maritime security and combat transnational organized crime at sea in the South East Asia Pacific Island Countries. It also addresses the challenge of providing state-of-the-art equipment and customized training to maritime law enforcement agencies.',\n",
       " 'beneficiaries_and_impacted_groups': 'The primary beneficiaries of the project are the maritime law enforcement agencies (Coast Guard, Police, Navy, Prisons Service, Customs) in Fiji, Kiribati, Nauru, Tuvalu, Vanuatu, Marshall Islands, and Micronesia. Other impacted groups include the Ministry of Justice, Department of Prisons, and Department of Government Analyst.',\n",
       " 'anticipated_outcomes_short_and_long_term': 'The expected outcome is that maritime law enforcement agencies in Asia Pacific are equipped to safely and effectively control the borders during the COVID-19 pandemic. The project also aims to contribute to the achievement of several Sustainable Development Goals by countering transnational organized crime and promoting border management.',\n",
       " 'quantifiable_outcome_list': [{'outcome_item': 'Procurement of Inshore Patrol Craft for Kiribati, Nauru, Tuvalu and Vanuatu - Budget: $1,400,000.00, Delivery by Dec 2024'},\n",
       "  {'outcome_item': 'Procurement of X-band Coastal Radar Unit for Kiribati, Nauru, Tuvalu and Vanuatu - Budget: $135,000.00, Delivery by Dec 2024'},\n",
       "  {'outcome_item': 'Procurement of Equipment Upgrades to MLE Units (Computers/ Widescreen Displays/Smart Tables/VHF and HF Marine band radios and antennas) for Kiribati, Nauru, Marshall Islands, Micronesia, Tuvalu, and Vanuatu - Budget: $210,000.00, Delivery by Dec 2024'},\n",
       "  {'outcome_item': 'Procurement of Maritime Underwater Drone and Accessories for Fiji - Budget: $10,000.00, Delivery by Dec 2024'}],\n",
       " 'sdg_goals': [{'sdg_goal': '16',\n",
       "   'name': 'Peace, Justice and Strong Institutions',\n",
       "   'relevance': 'The project aims to strengthen the capacity of maritime law enforcement agencies for effective maritime crime control, contributing to peaceful and inclusive societies and building effective institutions.'},\n",
       "  {'sdg_goal': '14',\n",
       "   'name': 'Life Below Water',\n",
       "   'relevance': 'The project focuses on combating transnational organized crime at sea, which contributes to the conservation and sustainable use of the oceans, seas, and marine resources.'}],\n",
       " 'sdg_indicators': [{'sdg_indicator': '16.4.2',\n",
       "   'description': 'Proportion of seized, found or surrendered arms whose illicit origin or context has been traced or established by a competent authority in line with international instruments',\n",
       "   'measurability': 'Potentially measurable through tracking the origin of seized arms as a result of strengthened maritime law enforcement.'},\n",
       "  {'sdg_indicator': '16.a.1',\n",
       "   'description': 'Existence of independent national human rights institutions in compliance with the Paris Principles',\n",
       "   'measurability': 'Indirectly measurable through the strengthening of national institutions involved in maritime law enforcement.'},\n",
       "  {'sdg_indicator': '14.6.1',\n",
       "   'description': 'Degree of implementation of international instruments aiming to combat illegal, unreported and unregulated fishing',\n",
       "   'measurability': 'Potentially measurable through assessing the implementation of international maritime laws and regulations by the participating countries.'},\n",
       "  {'sdg_indicator': '14.c.1',\n",
       "   'description': 'Number of countries making progress in ratifying, accepting and implementing through legal, policy and institutional frameworks, ocean-related instruments that implement international law, as reflected in the United Nations Convention on the Law of the Sea, for the conservation and sustainable use of the oceans and their resources',\n",
       "   'measurability': 'Potentially measurable through assessing the implementation of international maritime laws and regulations by the participating countries.'}],\n",
       " 'remote_sensing_tools': [{'technology': 'Satellite Imagery & Geospatial Analysis',\n",
       "   'relevance_justification': 'This tool is relevant because the project involves procurement of equipment, including maritime underwater drones, and the tool provides high-resolution satellite imagery for damage assessment, land use analysis, and contamination detection, which can be used to assess the areas where the equipment will be deployed and monitor its impact.',\n",
       "   'project_description_context': 'Annex A: Project Document, 13.16 Implementation Plan, Procurement of Maritime Underwater Drone and Accessories, Fiji'},\n",
       "  {'technology': 'Geospatial Data Processing',\n",
       "   'relevance_justification': 'This tool is relevant because the project involves procurement of equipment upgrades to maritime law enforcement units, including computers and widescreen displays, which can be used to analyze satellite images, terrain, and risk areas using GIS software.',\n",
       "   'project_description_context': 'Annex A: Project Document, 13.16 Implementation Plan, Procurement of Equipment Upgrades to MLE Units (Computers/ Widescreen Displays/Smart Tables/VHF and HF Marine band radios and antennas), Kiribati, Nauru, Marshall Islands, Micronesia, Tuvalu, and Vanuatu'},\n",
       "  {'technology': 'Change Detection Analysis',\n",
       "   'relevance_justification': 'This tool is relevant because the project aims to strengthen the capacity of maritime law enforcement agencies to control borders, and change detection analysis can identify shifts in terrain, infrastructure, or risk conditions over time, helping to monitor and manage border security.',\n",
       "   'project_description_context': '1 SUMMARY OF ACTIVITIES, Expected Outcome: Maritime law enforcement agencies in Asia Pacific are equipped to safely and effectively control the borders during the COVID-19 pandemic.'}]}"
      ]
     },
     "execution_count": 89,
     "metadata": {},
     "output_type": "execute_result"
    }
   ],
   "source": [
    "result_json = json.loads(result)\n",
    "result_json"
   ]
  },
  {
   "cell_type": "code",
   "execution_count": 90,
   "metadata": {},
   "outputs": [
    {
     "name": "stderr",
     "output_type": "stream",
     "text": [
      "INFO:config:Uploaded row for https://drive.google.com/file/d/1BnxsDqskNB2Q4KLcZ7mAK-tZ6BGXaiEY to unops-eil-sdg-measurement-prod.Legal_Agreements.analysis_results\n"
     ]
    },
    {
     "data": {
      "text/plain": [
       "True"
      ]
     },
     "execution_count": 90,
     "metadata": {},
     "output_type": "execute_result"
    }
   ],
   "source": [
    "upload_to_bigquery(result_json)"
   ]
  },
  {
   "cell_type": "markdown",
   "metadata": {},
   "source": [
    "# batch processing"
   ]
  },
  {
   "cell_type": "code",
   "execution_count": 102,
   "metadata": {},
   "outputs": [
    {
     "name": "stdout",
     "output_type": "stream",
     "text": [
      "NS_Project_Legal_Agreement\n",
      "TBL_Project_Legal_Agreement\n"
     ]
    }
   ],
   "source": [
    "# ACTUALLY NO NEED IN THE FUTURE, JUST IMPORT FROM BIGQUERY.PY\n",
    "from python_backend.auth.credentials import credentials_manager\n",
    "from python_backend.config import logger, BQ_FA_DATASET, BQ_FA_TABLE \n",
    "print(BQ_FA_DATASET)\n",
    "print(BQ_FA_TABLE)\n",
    "def get_fa_from_bigquery(number_entries=10):\n",
    "    \"\"\"\n",
    "    Retrieve document links from BigQuery.\n",
    "    \n",
    "    Args:\n",
    "        number_entries (int): Number of entries to retrieve.\n",
    "    \n",
    "    Returns:\n",
    "        List of document links (GCS URIs or Google Drive links)\n",
    "    \"\"\"\n",
    "    try:\n",
    "        # Use a different client for the project\n",
    "        bigquery_client_fa = get_bigquery_client()\n",
    "        if not bigquery_client_fa:\n",
    "            logger.error(\"BigQuery client not initialized\")\n",
    "            return []\n",
    "        \n",
    "        # Query to retrieve document links\n",
    "        query = f\"\"\"\n",
    "        SELECT \n",
    "            -- Legal_Agreement,\n",
    "            t0.File_URL,\n",
    "            -- t1.Donor,\n",
    "        FROM \n",
    "            `{GCP_PROJECT_ID}.{BQ_FA_DATASET}.{BQ_FA_TABLE}`\n",
    "            CROSS JOIN\n",
    "            UNNEST(Legal_Agreement_Files) AS t0\n",
    "            -- CROSS JOIN\n",
    "            --     UNNEST(Donors) AS t1\n",
    "        WHERE\n",
    "            t0.File_URL IS NOT NULL\n",
    "        LIMIT {number_entries}\n",
    "        \"\"\"\n",
    "        \n",
    "        query_job = bigquery_client_fa.query(query) \n",
    "        results = query_job.result()\n",
    "        \n",
    "        links = [row[\"File_URL\"] for row in results]\n",
    "        logger.info(f\"Retrieved {len(links)} document links from BigQuery\")\n",
    "        return links\n",
    "    except Exception as e:\n",
    "        logger.error(f\"Error retrieving document links from BigQuery: {str(e)}\")\n",
    "        return []"
   ]
  },
  {
   "cell_type": "code",
   "execution_count": 165,
   "metadata": {},
   "outputs": [
    {
     "name": "stderr",
     "output_type": "stream",
     "text": [
      "INFO:python_backend.config:Retrieved 2500 document links from BigQuery\n"
     ]
    }
   ],
   "source": [
    "# .  GET A LIST OF DOCUMENT LISTS \n",
    "links = get_fa_from_bigquery(2500) # TODO: Make this function anti join with processed_documents table\n",
    "links_copy = links.copy()"
   ]
  },
  {
   "cell_type": "code",
   "execution_count": 171,
   "metadata": {},
   "outputs": [],
   "source": [
    "# 2. anti join the link with those on processed_documents table\n",
    "query = f\"\"\"\n",
    "SELECT file_link\n",
    "FROM `{GCP_PROJECT_ID}.{BQ_MIT_DATASET}.processed_documents`\n",
    "\"\"\"\n",
    "bigquery_client = get_bigquery_client()\n",
    "query_job = bigquery_client.query(query)\n",
    "processed_links = query_job.result()\n",
    "processed_links = [row.file_link for row in processed_links]\n",
    "\n",
    "links_copy = [link for link in links_copy if link not in processed_links]"
   ]
  },
  {
   "cell_type": "code",
   "execution_count": 176,
   "metadata": {},
   "outputs": [
    {
     "data": {
      "text/plain": [
       "1"
      ]
     },
     "execution_count": 176,
     "metadata": {},
     "output_type": "execute_result"
    }
   ],
   "source": [
    "len(links_copy)"
   ]
  },
  {
   "cell_type": "code",
   "execution_count": 179,
   "metadata": {},
   "outputs": [],
   "source": [
    "import json\n",
    "\n",
    "for document_link in links_copy:  # Iterate over a copy if you plan to remove items\n",
    "    if not is_document_already_processed(document_link):\n",
    "        result = answer_question_from_document_link(document_link, policy_doc_list)   \n",
    "        #  if result is None, continue\n",
    "        print(result)\n",
    "        if result is None:\n",
    "            mark_document_as_processed(document_link, \"failed\", \"PermissionError\")\n",
    "            links_copy.remove(document_link)\n",
    "            continue\n",
    "        \n",
    "        else:\n",
    "            # Ensure result is a dict, or parse if it's a JSON string\n",
    "            if isinstance(result, str):\n",
    "                try:\n",
    "                    result_json = json.loads(result)\n",
    "                except Exception:\n",
    "                    logger.error(f\"Error with json.loads for {document_link}. Skipping.\")\n",
    "            elif isinstance(result, dict):\n",
    "                result_json = result\n",
    "            else:\n",
    "                logger.error(f\"Result for {document_link} is neither dict nor JSON string. Skipping.\")\n",
    "            \n",
    "            # Upload the result to BigQuery \n",
    "            try:\n",
    "                upload_to_bigquery(result_json)\n",
    "                logger.info(f\"Uploaded document link {document_link} to BigQuery. Taking a break for 10 sec to reset LLM\")\n",
    "                links_copy.remove(document_link)\n",
    "                time.sleep(10)\n",
    "            except Exception as e:\n",
    "                logger.error(f\"Failed to upload document link {document_link} to BigQuery: {str(e)}\")\n",
    "                continue"
   ]
  },
  {
   "cell_type": "code",
   "execution_count": 180,
   "metadata": {},
   "outputs": [
    {
     "name": "stdout",
     "output_type": "stream",
     "text": [
      "Remaining links to process: ['https://docs.google.com/document/d/1WEjrcN6a0eQnlUnCEWNHW8Flv7C1Fuy4pqSEOnTZqyI']\n"
     ]
    }
   ],
   "source": [
    "print(f\"Remaining links to process: {links_copy}\")"
   ]
  },
  {
   "cell_type": "code",
   "execution_count": 2,
   "metadata": {},
   "outputs": [],
   "source": [
    "# def get_dataset_location(dataset_id):\n",
    "#     \"\"\"Retrieves the location of a BigQuery dataset.\"\"\"\n",
    "\n",
    "#     bigquery_client = get_bigquery_client()\n",
    "#     dataset_ref = bigquery_client.dataset(dataset_id)\n",
    "#     dataset = bigquery_client.get_dataset(dataset_ref)  # Make an API request.\n",
    "\n",
    "#     print(f\"Dataset {dataset_id} is located in {dataset.location}\")\n",
    "#     return dataset.location"
   ]
  },
  {
   "cell_type": "markdown",
   "metadata": {},
   "source": [
    "# Join BQ Tables -> Final Results"
   ]
  },
  {
   "cell_type": "code",
   "execution_count": 3,
   "metadata": {},
   "outputs": [
    {
     "name": "stderr",
     "output_type": "stream",
     "text": [
      "INFO:python_backend.config:BigQuery client initialized\n"
     ]
    },
    {
     "data": {
      "text/plain": [
       "\"'https://drive.google.com/file/d/1hCfUaLvDTUSB-k0WG5jDcENdw-Xtq0xr','https://drive.google.com/file/d/1dd-MvRejrqD-letNUaFq6wE5yob8AEeE','https://drive.google.com/file/d/1K3uqmb6X45j_KQI0_YXzf-gX3oWLosGS','https://drive.google.com/file/d/1xbcl7J7nB__siMnsdt_LYWdbi4JQJmXQ','https://drive.google.com/file/d/1jOlFDCVkml-18XmCLgAeLE301g6Q7rzD','https://drive.google.com/file/d/1ahvBSdhsQ2mLgL6OQ5YqnAaTcV_hGSyz','https://drive.google.com/file/d/1owohktvnDM1jFm3av6ILKdwUStAsEgHb','https://drive.google.com/file/d/1a5SbL067n4ZYj9O5JZmS_98gqMS_QxJT','https://drive.google.com/file/d/1zmzpqm_U-U_mdxdXnPvwyT4dlkDE4qwd','https://drive.google.com/file/d/1bJPqNIaMdDxbCJfNuF2_w6ZS9ri_2B3b','https://docs.google.com/document/d/1ffToLauAdRbMzQPKfYTadA8myy5y5i9pIBB4Q4I8Gzc','https://docs.google.com/spreadsheets/d/10ExpU3dUGedIrriqMYnNJN5FPXudt-P5ySXZJdDTVJY','https://drive.google.com/file/d/1otkgQ3iehf915LzkpTX654lOjvv3Ooy_','https://docs.google.com/document/d/1mQKCs6v5FsBRKKmxWxp-f8B4IHAU4Fm8Z_fmQjgIsFk','https://drive.google.com/file/d/1EiAFgEwk2PS6PihazrtnjktzAYWDSE7U','https://docs.google.com/document/d/1vgydu5K31a-Evz26njX0LzhaC2BklCF6-N5Yz7tOXz0','https://docs.google.com/document/d/1YFM5De_GkbPl_o54XRxOw2Pw5NG7P_r70j9Smd8zWXs','https://docs.google.com/document/d/1XgbNSsAxJH9Xlp07o7E9hjgwooRWEa0QuGrS2J3YFWM','https://drive.google.com/file/d/1U8rqJ7znlCt0Kk95LMolO9QHOkzp3rKM','https://drive.google.com/file/d/1H9jbewKT8Jw76yZrPVu7ebWXb9tvjoUQ','https://docs.google.com/document/d/1hxxec2JTbiogkmj_Sri5F3K0WiTFqRCE22wHk49i8rQ','https://docs.google.com/document/d/1nWRPLpbB4KYBy1GPgMMGkcdAEzx5DUUrbL5GocECdCE','https://drive.google.com/file/d/1jQMCVyJBj8TN-tNi4ZN3KVOiIiBq1b_0','https://drive.google.com/file/d/13yRVDmiN1mH4_hXWMM59zVzaNPFgsQCy','https://docs.google.com/spreadsheets/d/1YWnSCbr8tvTa9NbVrz3EXJhWcT7UbCszIQGIphnn7Oo','https://docs.google.com/spreadsheets/d/1hR4iLy6k9Pi7xbTqN9_TF8yw93NwzRwjV5fEgb7bOME','https://drive.google.com/file/d/1FqbPOzP6xrlomZqCthVkQFg7n92hX9pe','https://drive.google.com/file/d/1JvlI5b-5csKLpOcEiVFdz9yyE5RDlv5F','https://drive.google.com/file/d/18JEwbGL_Ru6eVWcKDdVY095HhGyHKbHH','https://docs.google.com/document/d/1PoWHfqZG4AZLnzrGODJfp0HGWZkE2l54mfamCL7eiPg','https://docs.google.com/document/d/1gzNS_1OPsSUxI8peM-OM-2ijKFgguU22xCWXEDnoEq8','https://drive.google.com/file/d/1p9yDUH9Xt-EVPs93u7pbYqBHCDIO4y-s','https://docs.google.com/document/d/1levA4yJ06HFoDwegLLy51BiYSMDdOzoQxPEVzOayghY','https://docs.google.com/document/d/1Y_uD9nnACUfGeP1FhFItHLYs42cR_ouKF5A5xOv6A0c','https://docs.google.com/document/d/192Ps6PQ2Ebc1v9jT7VA5AE2t_5uE0Y85Q3TcdLaw6QU','https://drive.google.com/file/d/15Lq21iF7ltEBwpGiEDszZma0dN5DKk1r','https://drive.google.com/file/d/1sdO5wvANNfPx0jGQFFXz0qRwQ_ZMjqEO','https://docs.google.com/document/d/1IRhxzwX-5fAOc-2e-HL0yatRQBgqZ-c5qJNJ-0uiIHI','https://drive.google.com/file/d/1Oo4Kt6yPuYDPoFaYuO5WjOMNjiOZIqt7','https://drive.google.com/file/d/1K37-zKb0InM4NIxp5RZ9tpQI5W8aT38r','https://docs.google.com/document/d/1jrufUQ0Bff4oGceksOvscybgvF2cWMN8cRumKpKus4Y','https://drive.google.com/file/d/1_C7gTLlrE5drkN1N0ZeB_PE767UCwK3m','https://drive.google.com/file/d/14yCAEKrhVTNdw5eoanXiCABGyxKkBDaA','https://drive.google.com/file/d/1SH76zM-MYEu4BzJg9RXctysywhLqLP4I','https://drive.google.com/file/d/1mWPjBdW1bax9M4YhhUG-gjQBxxm14DC2','https://drive.google.com/file/d/1w2S9A4-6mY15dzZYuKzQabA0qJjCwb5n','https://drive.google.com/file/d/1o1Bdvg5M3GemVbrD_h4CeG693l6K440B','https://drive.google.com/file/d/19VTYZERBqDL013doJi8hPKfYse1meKPL','https://drive.google.com/file/d/1YCm6NhrZPiUnoy0xTM59ph_Ao03kO8p5','https://drive.google.com/file/d/1CRZOdzakEb8vTS-iWytoYP6zG1DaXbZR','https://drive.google.com/file/d/1ThCi7ki0eZRZvbTeV04EBUeMERcGtRtv','https://drive.google.com/file/d/1vO-QPZ6x1j64ZIlArkCIuSXbUb9NseFs','https://docs.google.com/document/d/15LSW8iWucpJwi1f-wqC4rTjcGk_tWDQLWJpGbfWkgFA','https://drive.google.com/file/d/1qAlSDDZwBm1LZXmtBT-1zrREKQdIxvVr','https://docs.google.com/document/d/1MZuVePbU67dV3Uv8JcruT9YyNe-wA0rC4eRPBjf9tqY','https://drive.google.com/file/d/1BWTn_Gn0iUlJZxQq3AMdrb1Rw_ibP2D5','https://drive.google.com/file/d/1-FpNdAHr32EFOK6FUTs4wdF8tIQi_Do_','https://drive.google.com/file/d/1B4v1YsILA6O_Boqns9kFX_tGeOCkEXEI','https://docs.google.com/spreadsheets/d/1e5zzpX0i5Kh9u0OY-ulht9tcKQ-ZKX03hZYB0VG0Fhk','https://docs.google.com/spreadsheets/d/1V6K7-xLXxf7oShn5WvMrh21mGZ6XkH7EE49V0MK8DZ8','https://docs.google.com/spreadsheets/d/1EVwrdb_VY_rj6UJN4-u8DqD_oZhKjO77P7WppHJulig','https://drive.google.com/file/d/17IoA7VMmXZf0Tbx523GWlOO3L77jo_Ny','https://drive.google.com/file/d/1AixkTd5hGYQ5CP1j3LG95imwggqlbzyo','https://drive.google.com/file/d/1t2rzi2NI5z_WDiJGTrfhh_XLE0rYS-wY','https://drive.google.com/file/d/1mupNFt0qD8_3B6QF1c0Ag2Ldcbbpr_7v','https://drive.google.com/file/d/1pfE9yejwDSy7MLrAD6lnf9ZM8cD7xwkA','https://drive.google.com/file/d/1rtpfySg-hZxABayR-McMDkDyP_XITbjq','https://drive.google.com/file/d/1yRf5MqwKJE8gI6cr3tv76N16TYLQ-uTI','https://drive.google.com/file/d/16KoBFXWu1qQgJUm5P7dhkOqOQa3kd_dn','https://drive.google.com/file/d/1v_NLKtaJTaALIgejmaeND8d8zqOKVA7r','https://drive.google.com/file/d/18Ok2XET9rzjC2GjGv_WJa7VUmn58UqI2','https://drive.google.com/file/d/1BnxsDqskNB2Q4KLcZ7mAK-tZ6BGXaiEY','https://drive.google.com/file/d/1GYMjSA10FrwlPHJbBgisXuodg2WNthJK','https://drive.google.com/file/d/1_28E3HnYkNeKCS5b_LcEIhkXzpFKDC1W','https://docs.google.com/document/d/1WEjrcN6a0eQnlUnCEWNHW8Flv7C1Fuy4pqSEOnTZqyI','https://drive.google.com/file/d/1B9CAkFyDy-k3r04W1fhDuyhmwskrsiM0','https://drive.google.com/file/d/1J3iErGiv1SNJ5GBfNpUBzS26Pvb_k3PN','https://drive.google.com/file/d/1qNH3mS3VQTZ4IYwe_m4HUB36c2YkIWTy','https://drive.google.com/file/d/1EGlhf1MujPqtO1kftL9shW8hoLxG1K2i'\""
      ]
     },
     "execution_count": 3,
     "metadata": {},
     "output_type": "execute_result"
    }
   ],
   "source": [
    "bigquery_client = get_bigquery_client()\n",
    "# Step 1: Get the list of file_ids\n",
    "query_part1 = \"\"\"\n",
    "SELECT DISTINCT file_id\n",
    "FROM `unops-eil-sdg-measurement-prod.Legal_Agreements.analysis_results`\n",
    "\"\"\"\n",
    "\n",
    "file_ids = [row.file_id for row in bigquery_client.query(query_part1).result()]\n",
    "# Ensure the file_ids are properly formatted for SQL\n",
    "file_ids_str = \",\".join(f\"'{file_id}'\" for file_id in file_ids)\n",
    "file_ids_str"
   ]
  },
  {
   "cell_type": "code",
   "execution_count": 5,
   "metadata": {},
   "outputs": [
    {
     "name": "stderr",
     "output_type": "stream",
     "text": [
      "/Users/beckyxu/Documents/GitHub/UNOPS---Remote-Sensing/venv/lib/python3.12/site-packages/google/cloud/bigquery/table.py:1933: UserWarning: BigQuery Storage module not found, fetch data with the REST endpoint instead.\n",
      "  warnings.warn(\n"
     ]
    },
    {
     "data": {
      "text/html": [
       "<div>\n",
       "<style scoped>\n",
       "    .dataframe tbody tr th:only-of-type {\n",
       "        vertical-align: middle;\n",
       "    }\n",
       "\n",
       "    .dataframe tbody tr th {\n",
       "        vertical-align: top;\n",
       "    }\n",
       "\n",
       "    .dataframe thead th {\n",
       "        text-align: right;\n",
       "    }\n",
       "</style>\n",
       "<table border=\"1\" class=\"dataframe\">\n",
       "  <thead>\n",
       "    <tr style=\"text-align: right;\">\n",
       "      <th></th>\n",
       "      <th>Legal_Agreement</th>\n",
       "      <th>File_URL</th>\n",
       "      <th>Region</th>\n",
       "      <th>Hub</th>\n",
       "      <th>Engagement_Description</th>\n",
       "      <th>Donor_Description</th>\n",
       "      <th>Project_Manager_Name</th>\n",
       "      <th>Project_Manager_Email_Address</th>\n",
       "      <th>Deputy_Project_Manager_Name</th>\n",
       "      <th>Deputy_Project_Manager_Email_Address</th>\n",
       "    </tr>\n",
       "  </thead>\n",
       "  <tbody>\n",
       "    <tr>\n",
       "      <th>0</th>\n",
       "      <td>55530</td>\n",
       "      <td>https://drive.google.com/file/d/1K37-zKb0InM4N...</td>\n",
       "      <td>ECR</td>\n",
       "      <td>VIE</td>\n",
       "      <td>NDC Partnership - Fund Management Support</td>\n",
       "      <td>FPS Ministry of Foreign Affairs, Foreign Trade...</td>\n",
       "      <td>Samson Asfaw TILAHUN</td>\n",
       "      <td>samsona@unops.org</td>\n",
       "      <td>Ashebir Assefa Kidane</td>\n",
       "      <td>ashebirk@unops.org</td>\n",
       "    </tr>\n",
       "    <tr>\n",
       "      <th>1</th>\n",
       "      <td>27085</td>\n",
       "      <td>https://drive.google.com/file/d/1BWTn_Gn0iUlJZ...</td>\n",
       "      <td>AR</td>\n",
       "      <td>LKMCO</td>\n",
       "      <td>Emergency Covid 19 related procurement for the...</td>\n",
       "      <td>Maldives</td>\n",
       "      <td>Gayan Lasika MANORATHNA</td>\n",
       "      <td>gayanm@unops.org</td>\n",
       "      <td>Wanni Arachchilage Lahiru Geethanga PERERA</td>\n",
       "      <td>lahirup@unops.org</td>\n",
       "    </tr>\n",
       "    <tr>\n",
       "      <th>2</th>\n",
       "      <td>24748</td>\n",
       "      <td>https://drive.google.com/file/d/1zmzpqm_U-U_md...</td>\n",
       "      <td>NYSC</td>\n",
       "      <td>NYSC_SDC</td>\n",
       "      <td>Global ICCA Support Initiative (Award ID 00082...</td>\n",
       "      <td>Other UNDP MDTF</td>\n",
       "      <td>Ada SAFANOVA</td>\n",
       "      <td>adas@unops.org</td>\n",
       "      <td>Teymur MAMMADZADA</td>\n",
       "      <td>teymurm@unops.org</td>\n",
       "    </tr>\n",
       "    <tr>\n",
       "      <th>3</th>\n",
       "      <td>56351</td>\n",
       "      <td>https://docs.google.com/document/d/1XgbNSsAxJH...</td>\n",
       "      <td>AFR</td>\n",
       "      <td>CDOH</td>\n",
       "      <td>Services d’appui à la mise en oeuvre d’infrast...</td>\n",
       "      <td>Madagascar</td>\n",
       "      <td>Bodi YERIMA</td>\n",
       "      <td>yerimab@unops.org</td>\n",
       "      <td>Dibaud Mulunda LUBANZA</td>\n",
       "      <td>dibaudm@unops.org</td>\n",
       "    </tr>\n",
       "    <tr>\n",
       "      <th>4</th>\n",
       "      <td>56878</td>\n",
       "      <td>https://drive.google.com/file/d/13yRVDmiN1mH4_...</td>\n",
       "      <td>LCR</td>\n",
       "      <td>PEOC</td>\n",
       "      <td>Licitación por encargo del servicio de diseño,...</td>\n",
       "      <td>Peru</td>\n",
       "      <td>MARIA NOEL TERRA LOPEZ</td>\n",
       "      <td>mariate@unops.org</td>\n",
       "      <td>CONSUELO VICTORIA RIVERA CHAPARRO</td>\n",
       "      <td>victoriar@unops.org</td>\n",
       "    </tr>\n",
       "  </tbody>\n",
       "</table>\n",
       "</div>"
      ],
      "text/plain": [
       "  Legal_Agreement                                           File_URL Region  \\\n",
       "0           55530  https://drive.google.com/file/d/1K37-zKb0InM4N...    ECR   \n",
       "1           27085  https://drive.google.com/file/d/1BWTn_Gn0iUlJZ...     AR   \n",
       "2           24748  https://drive.google.com/file/d/1zmzpqm_U-U_md...   NYSC   \n",
       "3           56351  https://docs.google.com/document/d/1XgbNSsAxJH...    AFR   \n",
       "4           56878  https://drive.google.com/file/d/13yRVDmiN1mH4_...    LCR   \n",
       "\n",
       "        Hub                             Engagement_Description  \\\n",
       "0       VIE          NDC Partnership - Fund Management Support   \n",
       "1     LKMCO  Emergency Covid 19 related procurement for the...   \n",
       "2  NYSC_SDC  Global ICCA Support Initiative (Award ID 00082...   \n",
       "3      CDOH  Services d’appui à la mise en oeuvre d’infrast...   \n",
       "4      PEOC  Licitación por encargo del servicio de diseño,...   \n",
       "\n",
       "                                   Donor_Description     Project_Manager_Name  \\\n",
       "0  FPS Ministry of Foreign Affairs, Foreign Trade...     Samson Asfaw TILAHUN   \n",
       "1                                           Maldives  Gayan Lasika MANORATHNA   \n",
       "2                                    Other UNDP MDTF             Ada SAFANOVA   \n",
       "3                                         Madagascar              Bodi YERIMA   \n",
       "4                                               Peru   MARIA NOEL TERRA LOPEZ   \n",
       "\n",
       "  Project_Manager_Email_Address                 Deputy_Project_Manager_Name  \\\n",
       "0             samsona@unops.org                       Ashebir Assefa Kidane   \n",
       "1              gayanm@unops.org  Wanni Arachchilage Lahiru Geethanga PERERA   \n",
       "2                adas@unops.org                           Teymur MAMMADZADA   \n",
       "3             yerimab@unops.org                      Dibaud Mulunda LUBANZA   \n",
       "4             mariate@unops.org           CONSUELO VICTORIA RIVERA CHAPARRO   \n",
       "\n",
       "  Deputy_Project_Manager_Email_Address  \n",
       "0                   ashebirk@unops.org  \n",
       "1                    lahirup@unops.org  \n",
       "2                    teymurm@unops.org  \n",
       "3                    dibaudm@unops.org  \n",
       "4                  victoriar@unops.org  "
      ]
     },
     "execution_count": 5,
     "metadata": {},
     "output_type": "execute_result"
    }
   ],
   "source": [
    "# Retrieve the data\n",
    "retrieve_query = f\"\"\"\n",
    "WITH Ranked_Legal_Agreements AS (\n",
    "    SELECT\n",
    "        Legal_Agreement,\n",
    "        t0.File_URL,\n",
    "        Region,\n",
    "        Hub,\n",
    "        Engagement_Description,\n",
    "        t1.Donor_Description,\n",
    "        t2.Project_Manager_Name,\n",
    "        t2.Project_Manager_Email_Address,\n",
    "        t2.Deputy_Project_Manager_Name,\n",
    "        t2.Deputy_Project_Manager_Email_Address,\n",
    "        ROW_NUMBER() OVER (PARTITION BY t0.File_URL ORDER BY Legal_Agreement) AS row_num\n",
    "    FROM\n",
    "        `unops-eil-sdg-measurement-prod.NS_Project_Legal_Agreement.TBL_Project_Legal_Agreement`\n",
    "    CROSS JOIN\n",
    "        UNNEST(Legal_Agreement_Files) AS t0\n",
    "    CROSS JOIN\n",
    "        UNNEST(Donors) AS t1\n",
    "    CROSS JOIN\n",
    "        UNNEST(Projects) AS t2\n",
    "    WHERE\n",
    "        t0.File_URL IN ({file_ids_str})\n",
    ")\n",
    "SELECT \n",
    "    Legal_Agreement,\n",
    "    File_URL,\n",
    "    Region,\n",
    "    Hub,\n",
    "    Engagement_Description,\n",
    "    Donor_Description,\n",
    "    Project_Manager_Name,\n",
    "    Project_Manager_Email_Address,\n",
    "    Deputy_Project_Manager_Name,\n",
    "    Deputy_Project_Manager_Email_Address\n",
    "FROM Ranked_Legal_Agreements\n",
    "WHERE row_num = 1\n",
    "\"\"\"\n",
    "\n",
    "# Execute the query and store the result in a DataFrame\n",
    "df = bigquery_client.query(retrieve_query).to_dataframe()\n",
    "df.head()"
   ]
  },
  {
   "cell_type": "code",
   "execution_count": 6,
   "metadata": {},
   "outputs": [
    {
     "name": "stderr",
     "output_type": "stream",
     "text": [
      "/var/folders/j2/yjk_0cz112g3l8vv2_013tmr0000gn/T/ipykernel_3873/1147012983.py:5: FutureWarning: to_gbq is deprecated and will be removed in a future version. Please use pandas_gbq.to_gbq instead: https://pandas-gbq.readthedocs.io/en/latest/api.html#pandas_gbq.to_gbq\n",
      "  df.to_gbq(destination_table=temp_table_id,\n",
      "71 out of 71 rows loaded.00<?, ?it/s]INFO:pandas_gbq.gbq:\n",
      "100%|██████████| 1/1 [00:00<00:00, 711.26it/s]"
     ]
    },
    {
     "name": "stdout",
     "output_type": "stream",
     "text": [
      "Temporary table created: unops-eil-sdg-measurement-prod.Legal_Agreements.project_metadata_temp\n"
     ]
    },
    {
     "name": "stderr",
     "output_type": "stream",
     "text": [
      "\n"
     ]
    }
   ],
   "source": [
    "# Define the temporary table name\n",
    "temp_table_id = \"unops-eil-sdg-measurement-prod.Legal_Agreements.project_metadata_temp\"\n",
    "\n",
    "# Load the DataFrame to the temporary table\n",
    "df.to_gbq(destination_table=temp_table_id, \n",
    "          project_id=\"unops-eil-sdg-measurement-prod\", \n",
    "          if_exists=\"replace\")\n",
    "\n",
    "print(f\"Temporary table created: {temp_table_id}\")"
   ]
  },
  {
   "cell_type": "code",
   "execution_count": 7,
   "metadata": {},
   "outputs": [
    {
     "data": {
      "text/plain": [
       "<google.cloud.bigquery.table._EmptyRowIterator at 0x3090a55b0>"
      ]
     },
     "execution_count": 7,
     "metadata": {},
     "output_type": "execute_result"
    }
   ],
   "source": [
    "# make the final joined table\n",
    "query = \"\"\"\n",
    "    CREATE OR REPLACE TABLE\n",
    "        `unops-eil-sdg-measurement-prod`.`Legal_Agreements`.`final_results` AS\n",
    "    SELECT\n",
    "        *\n",
    "    FROM\n",
    "        `unops-eil-sdg-measurement-prod`.`Legal_Agreements`.`project_metadata_temp`\n",
    "    INNER JOIN\n",
    "        `unops-eil-sdg-measurement-prod`.`Legal_Agreements`.`analysis_results` AS t0\n",
    "    ON\n",
    "    project_metadata_temp.File_URL = t0.file_id;\n",
    "\"\"\"\n",
    "\n",
    "bigquery_client.query(query).result()"
   ]
  }
 ],
 "metadata": {
  "kernelspec": {
   "display_name": "venv",
   "language": "python",
   "name": "python3"
  },
  "language_info": {
   "codemirror_mode": {
    "name": "ipython",
    "version": 3
   },
   "file_extension": ".py",
   "mimetype": "text/x-python",
   "name": "python",
   "nbconvert_exporter": "python",
   "pygments_lexer": "ipython3",
   "version": "3.12.9"
  }
 },
 "nbformat": 4,
 "nbformat_minor": 2
}
